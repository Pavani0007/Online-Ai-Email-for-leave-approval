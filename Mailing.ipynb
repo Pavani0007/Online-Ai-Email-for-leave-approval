{
  "nbformat": 4,
  "nbformat_minor": 0,
  "metadata": {
    "colab": {
      "provenance": []
    },
    "kernelspec": {
      "name": "python3",
      "display_name": "Python 3"
    },
    "language_info": {
      "name": "python"
    }
  },
  "cells": [
    {
      "cell_type": "code",
      "source": [
        "# First install required packages (run this in a cell before your main code)\n",
        "!pip install emails\n",
        "\n",
        "# Then add these imports at the top of your file\n",
        "import smtplib  # Corrected from 'smtlib'\n",
        "from email.mime.text import MIMEText  # Corrected from 'email.mine.text'\n",
        "from email.mime.multipart import MIMEMultipart"
      ],
      "metadata": {
        "colab": {
          "base_uri": "https://localhost:8080/"
        },
        "id": "aWcAPZj8sR-p",
        "outputId": "974e1eb8-0ff0-45c6-9f29-1174f128880e"
      },
      "execution_count": null,
      "outputs": [
        {
          "output_type": "stream",
          "name": "stdout",
          "text": [
            "Collecting emails\n",
            "  Downloading emails-0.6-py2.py3-none-any.whl.metadata (2.1 kB)\n",
            "Collecting cssutils (from emails)\n",
            "  Downloading cssutils-2.11.1-py3-none-any.whl.metadata (8.7 kB)\n",
            "Requirement already satisfied: lxml in /usr/local/lib/python3.11/dist-packages (from emails) (5.4.0)\n",
            "Requirement already satisfied: chardet in /usr/local/lib/python3.11/dist-packages (from emails) (5.2.0)\n",
            "Requirement already satisfied: python-dateutil in /usr/local/lib/python3.11/dist-packages (from emails) (2.9.0.post0)\n",
            "Requirement already satisfied: requests in /usr/local/lib/python3.11/dist-packages (from emails) (2.32.3)\n",
            "Collecting premailer (from emails)\n",
            "  Downloading premailer-3.10.0-py2.py3-none-any.whl.metadata (15 kB)\n",
            "Requirement already satisfied: more-itertools in /usr/local/lib/python3.11/dist-packages (from cssutils->emails) (10.7.0)\n",
            "Collecting cssselect (from premailer->emails)\n",
            "  Downloading cssselect-1.3.0-py3-none-any.whl.metadata (2.6 kB)\n",
            "Requirement already satisfied: cachetools in /usr/local/lib/python3.11/dist-packages (from premailer->emails) (5.5.2)\n",
            "Requirement already satisfied: six>=1.5 in /usr/local/lib/python3.11/dist-packages (from python-dateutil->emails) (1.17.0)\n",
            "Requirement already satisfied: charset-normalizer<4,>=2 in /usr/local/lib/python3.11/dist-packages (from requests->emails) (3.4.2)\n",
            "Requirement already satisfied: idna<4,>=2.5 in /usr/local/lib/python3.11/dist-packages (from requests->emails) (3.10)\n",
            "Requirement already satisfied: urllib3<3,>=1.21.1 in /usr/local/lib/python3.11/dist-packages (from requests->emails) (2.4.0)\n",
            "Requirement already satisfied: certifi>=2017.4.17 in /usr/local/lib/python3.11/dist-packages (from requests->emails) (2025.4.26)\n",
            "Downloading emails-0.6-py2.py3-none-any.whl (56 kB)\n",
            "\u001b[2K   \u001b[90m━━━━━━━━━━━━━━━━━━━━━━━━━━━━━━━━━━━━━━━━\u001b[0m \u001b[32m56.2/56.2 kB\u001b[0m \u001b[31m2.3 MB/s\u001b[0m eta \u001b[36m0:00:00\u001b[0m\n",
            "\u001b[?25hDownloading cssutils-2.11.1-py3-none-any.whl (385 kB)\n",
            "\u001b[2K   \u001b[90m━━━━━━━━━━━━━━━━━━━━━━━━━━━━━━━━━━━━━━━━\u001b[0m \u001b[32m385.7/385.7 kB\u001b[0m \u001b[31m10.1 MB/s\u001b[0m eta \u001b[36m0:00:00\u001b[0m\n",
            "\u001b[?25hDownloading premailer-3.10.0-py2.py3-none-any.whl (19 kB)\n",
            "Downloading cssselect-1.3.0-py3-none-any.whl (18 kB)\n",
            "Installing collected packages: cssutils, cssselect, premailer, emails\n",
            "Successfully installed cssselect-1.3.0 cssutils-2.11.1 emails-0.6 premailer-3.10.0\n"
          ]
        }
      ]
    },
    {
      "cell_type": "code",
      "source": [
        "receiver_email = \"pavpavani04@gmail.com\"\n",
        "sender_email = \"1by22is112@bmsit.in\"\n",
        "subject = \"leave\"\n",
        "body_file_path = \"/content/leave_letter.txt\"  # Path to your file\n",
        "\n",
        "message=MIMEMultipart()\n",
        "message[\"From\"]=sender_email\n",
        "message[\"To\"]=receiver_email\n",
        "message[\"Subject\"]=subject\n",
        "\n",
        "body=open(body_file_path,\"r\").read()\n",
        "message.attach(MIMEText(body,\"plain\"))\n",
        "\n",
        "smtp_server=\"smtp.gmail.com\"\n",
        "smtp_port=587\n",
        "smtp_username=sender_email\n",
        "smtp_password=\"gsnh cimi qbec eoeq\"\n",
        "try:\n",
        "  with smtplib.SMTP(smtp_server,smtp_port) as server:\n",
        "    server.starttls()\n",
        "    server.login(smtp_username,smtp_password)\n",
        "    text=message.as_string()\n",
        "    server.sendmail(sender_email,receiver_email,text)\n",
        "    print(\"successfull\")\n",
        "except Exception as e:\n",
        "  print(\"error\",e)"
      ],
      "metadata": {
        "colab": {
          "base_uri": "https://localhost:8080/"
        },
        "id": "NkQ7Jn1NtG3f",
        "outputId": "83f5b332-bd81-444e-9a91-8daa7715bf96"
      },
      "execution_count": null,
      "outputs": [
        {
          "output_type": "stream",
          "name": "stdout",
          "text": [
            "successfull\n"
          ]
        }
      ]
    }
  ]
}
